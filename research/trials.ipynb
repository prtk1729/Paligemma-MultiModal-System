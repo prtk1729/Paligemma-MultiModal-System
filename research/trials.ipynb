{
 "cells": [
  {
   "cell_type": "code",
   "execution_count": 2,
   "metadata": {},
   "outputs": [],
   "source": [
    "import torch \n",
    "import torch.nn as nn"
   ]
  },
  {
   "cell_type": "code",
   "execution_count": 5,
   "metadata": {},
   "outputs": [
    {
     "name": "stdout",
     "output_type": "stream",
     "text": [
      "torch.Size([2, 3, 224, 224])\n"
     ]
    },
    {
     "data": {
      "text/plain": [
       "torch.Size([2, 150528])"
      ]
     },
     "execution_count": 5,
     "metadata": {},
     "output_type": "execute_result"
    }
   ],
   "source": [
    "x = torch.rand((2, 3, 224, 224))\n",
    "print(x.shape)\n",
    "# x.flatten() concept\n",
    "\n",
    "# x.shape: (B, C, H, W)\n",
    "\n",
    "\n",
    "x = x.flatten( 1 ) # starts from dim = 1, multiplies all subsequent dimensions\n",
    "x.shape\n"
   ]
  },
  {
   "cell_type": "code",
   "execution_count": 6,
   "metadata": {},
   "outputs": [],
   "source": [
    "# Register Buffer\n",
    "\n",
    "# - Scenario: Don't want to learn a tensor\n",
    "# - Just a utility\n",
    "    # - mask\n",
    "    # - non-learnbale pos-encoding etc\n",
    "\n",
    "# => Soln\n",
    "# Make it part of model's state as a buffer NOT a param\n",
    "# nn.Module has thismethod called register_buffer\n",
    "\n",
    "class Temp(nn.Module):\n",
    "    def __init__(self, num_pos):\n",
    "        self.num_pos = num_pos\n",
    "\n",
    "        self.pos_encodings = torch.arange(self.num_pos)\n",
    "        self.register_buffer( name = \"pos_encodings\",\n",
    "                             tensor = self.pos_encodings,\n",
    "                              persistent=False ) # Don't want to be part of model's state_dict i.e\n",
    "        # When loaded, don't want to retain it. When? Typically, when I can easily construct it.\n"
   ]
  },
  {
   "cell_type": "code",
   "execution_count": 4,
   "metadata": {},
   "outputs": [
    {
     "name": "stdout",
     "output_type": "stream",
     "text": [
      "tensor([[False, False, False],\n",
      "        [ True,  True,  True]])\n",
      "torch.Size([2, 3])\n",
      "torch.Size([2, 3, 4])\n"
     ]
    }
   ],
   "source": [
    "# Expand and braoadcast technique\n",
    "# This is a cool trick in scenarios, where we want to expand a dim by copying\n",
    "# copying/broadcsating\n",
    "\n",
    "x = torch.tensor([ [1, 2, 3], [4, 5, 6] ]) # (2, 3)\n",
    "x_mask = (x >= 4)\n",
    "\n",
    "print(x_mask)\n",
    "print(x_mask.shape)\n",
    "\n",
    "\n",
    "# (Batch = 2, seq_len = 3) -> Expand 3rd dim to 4 i.e embed_dim = 4\n",
    "x_mask = x_mask[:, :, None].expand(-1, -1, 4)\n",
    "print(x_mask.shape)"
   ]
  },
  {
   "cell_type": "code",
   "execution_count": 6,
   "metadata": {},
   "outputs": [
    {
     "name": "stdout",
     "output_type": "stream",
     "text": [
      "tensor([[[0., 0., 0., 0., 0., 0., 0., 0., 0., 0.],\n",
      "         [0., 0., 0., 0., 0., 0., 0., 0., 0., 0.],\n",
      "         [0., 0., 0., 0., 0., 0., 0., 0., 0., 0.],\n",
      "         [0., 0., 0., 0., 0., 0., 0., 0., 0., 0.],\n",
      "         [0., 0., 0., 0., 0., 0., 0., 0., 0., 0.]],\n",
      "\n",
      "        [[0., 0., 0., 0., 0., 0., 0., 0., 0., 0.],\n",
      "         [0., 0., 0., 0., 0., 0., 0., 0., 0., 0.],\n",
      "         [0., 0., 0., 0., 0., 0., 0., 0., 0., 0.],\n",
      "         [0., 0., 0., 0., 0., 0., 0., 0., 0., 0.],\n",
      "         [0., 0., 0., 0., 0., 0., 0., 0., 0., 0.]]])\n"
     ]
    }
   ],
   "source": [
    "import torch\n",
    "\n",
    "# Set device and define tensor dimensions\n",
    "device = torch.device(\"cpu\")\n",
    "batch_size, seq_len, embed_dim = 2, 5, 10\n",
    "\n",
    "# Initialize input embeddings with the desired device and data type\n",
    "input_embeds = torch.randn(size=(batch_size, seq_len, embed_dim), device=device, dtype=torch.float32)\n",
    "dtype = input_embeds.dtype  # Extract dtype from input_embeds\n",
    "\n",
    "# Create the final embedding tensor with zeros, matching input's shape, device, and dtype\n",
    "final_embedding = torch.zeros((batch_size, seq_len, embed_dim), dtype=dtype, device=device)\n",
    "\n",
    "print(final_embedding)\n"
   ]
  },
  {
   "cell_type": "code",
   "execution_count": null,
   "metadata": {},
   "outputs": [],
   "source": []
  },
  {
   "cell_type": "code",
   "execution_count": null,
   "metadata": {},
   "outputs": [],
   "source": []
  }
 ],
 "metadata": {
  "kernelspec": {
   "display_name": "base",
   "language": "python",
   "name": "python3"
  },
  "language_info": {
   "codemirror_mode": {
    "name": "ipython",
    "version": 3
   },
   "file_extension": ".py",
   "mimetype": "text/x-python",
   "name": "python",
   "nbconvert_exporter": "python",
   "pygments_lexer": "ipython3",
   "version": "3.11.9"
  }
 },
 "nbformat": 4,
 "nbformat_minor": 2
}
