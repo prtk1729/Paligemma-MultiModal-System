{
 "cells": [
  {
   "cell_type": "code",
   "execution_count": 1,
   "metadata": {},
   "outputs": [],
   "source": [
    "import torch \n",
    "import torch.nn as nn"
   ]
  },
  {
   "cell_type": "code",
   "execution_count": 5,
   "metadata": {},
   "outputs": [
    {
     "name": "stdout",
     "output_type": "stream",
     "text": [
      "torch.Size([2, 3, 224, 224])\n"
     ]
    },
    {
     "data": {
      "text/plain": [
       "torch.Size([2, 150528])"
      ]
     },
     "execution_count": 5,
     "metadata": {},
     "output_type": "execute_result"
    }
   ],
   "source": [
    "x = torch.rand((2, 3, 224, 224))\n",
    "print(x.shape)\n",
    "# x.flatten() concept\n",
    "\n",
    "# x.shape: (B, C, H, W)\n",
    "\n",
    "\n",
    "x = x.flatten( 1 ) # starts from dim = 1, multiplies all subsequent dimensions\n",
    "x.shape\n"
   ]
  },
  {
   "cell_type": "code",
   "execution_count": 6,
   "metadata": {},
   "outputs": [],
   "source": [
    "# Register Buffer\n",
    "\n",
    "# - Scenario: Don't want to learn a tensor\n",
    "# - Just a utility\n",
    "    # - mask\n",
    "    # - non-learnbale pos-encoding etc\n",
    "\n",
    "# => Soln\n",
    "# Make it part of model's state as a buffer NOT a param\n",
    "# nn.Module has thismethod called register_buffer\n",
    "\n",
    "class Temp(nn.Module):\n",
    "    def __init__(self, num_pos):\n",
    "        self.num_pos = num_pos\n",
    "\n",
    "        self.pos_encodings = torch.arange(self.num_pos)\n",
    "        self.register_buffer( name = \"pos_encodings\",\n",
    "                             tensor = self.pos_encodings,\n",
    "                              persistent=False ) # Don't want to be part of model's state_dict i.e\n",
    "        # When loaded, don't want to retain it. When? Typically, when I can easily construct it.\n"
   ]
  },
  {
   "cell_type": "code",
   "execution_count": null,
   "metadata": {},
   "outputs": [],
   "source": []
  },
  {
   "cell_type": "code",
   "execution_count": null,
   "metadata": {},
   "outputs": [],
   "source": []
  },
  {
   "cell_type": "code",
   "execution_count": null,
   "metadata": {},
   "outputs": [],
   "source": []
  }
 ],
 "metadata": {
  "kernelspec": {
   "display_name": "base",
   "language": "python",
   "name": "python3"
  },
  "language_info": {
   "codemirror_mode": {
    "name": "ipython",
    "version": 3
   },
   "file_extension": ".py",
   "mimetype": "text/x-python",
   "name": "python",
   "nbconvert_exporter": "python",
   "pygments_lexer": "ipython3",
   "version": "3.12.2"
  }
 },
 "nbformat": 4,
 "nbformat_minor": 2
}
